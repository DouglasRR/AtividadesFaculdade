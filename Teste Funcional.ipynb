{
 "cells": [
  {
   "cell_type": "code",
   "execution_count": 1,
   "id": "dd1d1cfa",
   "metadata": {
    "scrolled": true
   },
   "outputs": [],
   "source": [
    "import tkinter as tk\n",
    "import sqlite3\n",
    "import pandas as pd\n",
    "\n",
    "janela = tk.Tk()\n",
    "janela.title('Cadastro de Clientes')\n",
    "janela.geometry(\"330x350\")\n",
    "\n",
    "\n",
    "def cadastrar_cliente():\n",
    "    conexao = sqlite3.connect('clientes.db')\n",
    "    c = conexao.cursor()\n",
    "    c.execute(\"INSERT INTO clientes VALUES (:nome,:sobrenome,:email,:telefone)\",\n",
    "              {\n",
    "                  'nome': entry_nome.get(),\n",
    "                  'sobrenome': entry_sobrenome.get(),\n",
    "                  'email': entry_email.get(),\n",
    "                  'telefone': entry_telefone.get()\n",
    "              })\n",
    "    conexao.commit()\n",
    "    conexao.close()\n",
    "    entry_nome.delete(0,\"end\")\n",
    "    entry_sobrenome.delete(0,\"end\")\n",
    "    entry_email.delete(0,\"end\")\n",
    "    entry_telefone.delete(0,\"end\")\n",
    "\n",
    "def exporta_clientes():\n",
    "    conexao = sqlite3.connect('clientes.db')\n",
    "    c = conexao.cursor()\n",
    "    c.execute(\"SELECT *, oid FROM clientes\")\n",
    "    clientes_cadastrados = c.fetchall()\n",
    "    clientes_cadastrados=pd.DataFrame(clientes_cadastrados,columns=['nome','sobrenome','email','telefone','Id_banco'])\n",
    "    clientes_cadastrados.to_excel('clientes.xlsx')\n",
    "    conexao.commit()\n",
    "    conexao.close()\n",
    "\n",
    "\n",
    "#Rótulos Entradas:\n",
    "label_nome = tk.Label(janela, text='Nome')\n",
    "label_nome.grid(row=0,column=0, padx=10, pady=10)\n",
    "\n",
    "label_sobrenome = tk.Label(janela, text='Sobrenome')\n",
    "label_sobrenome.grid(row=1, column=0, padx=10, pady=10)\n",
    "\n",
    "label_email = tk.Label(janela, text='E-mail')\n",
    "label_email.grid(row=2, column=0 , padx=10, pady=10)\n",
    "\n",
    "label_telefone = tk.Label(janela, text='Telefone')\n",
    "label_telefone.grid(row=3, column=0, padx=10, pady=10)\n",
    "\n",
    "#Caixas Entradas:\n",
    "entry_nome = tk.Entry(janela , width =35)\n",
    "entry_nome.grid(row=0,column=1, padx=10, pady=10)\n",
    "\n",
    "entry_sobrenome = tk.Entry(janela, width =35)\n",
    "entry_sobrenome.grid(row=1, column=1, padx=10, pady=10)\n",
    "\n",
    "entry_email = tk.Entry(janela, width =35)\n",
    "entry_email.grid(row=2, column=1 , padx=10, pady=10)\n",
    "\n",
    "entry_telefone = tk.Entry(janela, width =35)\n",
    "entry_telefone.grid(row=3, column=1, padx=10, pady=10)\n",
    "\n",
    "# Botão de Cadastrar\n",
    "\n",
    "botao_cadastrar = tk.Button(text='Cadastrar Cliente', command=cadastrar_cliente)\n",
    "botao_cadastrar.grid(row=4, column=0,columnspan=2, padx=10, pady=10 , ipadx = 80)\n",
    "\n",
    "# Botão de Exportar\n",
    "\n",
    "botao_exportar = tk.Button(text='Exportar para Excel', command=exporta_clientes)\n",
    "botao_exportar.grid(row=5, column=0,columnspan=2, padx=10, pady=10 , ipadx = 80)\n",
    "\n",
    "\n",
    "janela.mainloop()"
   ]
  },
  {
   "cell_type": "code",
   "execution_count": 3,
   "id": "8e70b3d0",
   "metadata": {},
   "outputs": [
    {
     "data": {
      "text/plain": [
       "7"
      ]
     },
     "execution_count": 3,
     "metadata": {},
     "output_type": "execute_result"
    }
   ],
   "source": [
    "len(linhas)"
   ]
  }
 ],
 "metadata": {
  "kernelspec": {
   "display_name": "Python 3.10.0 64-bit",
   "language": "python",
   "name": "python3"
  },
  "language_info": {
   "codemirror_mode": {
    "name": "ipython",
    "version": 3
   },
   "file_extension": ".py",
   "mimetype": "text/x-python",
   "name": "python",
   "nbconvert_exporter": "python",
   "pygments_lexer": "ipython3",
   "version": "3.10.0"
  },
  "vscode": {
   "interpreter": {
    "hash": "6b71a5b2671a86da0a04db5c09307b5c4ba0b413e15b05630537957c70835d9d"
   }
  }
 },
 "nbformat": 4,
 "nbformat_minor": 5
}
